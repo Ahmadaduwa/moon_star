{
 "cells": [
  {
   "cell_type": "markdown",
   "metadata": {},
   "source": [
    "Test for find input solution"
   ]
  },
  {
   "cell_type": "code",
   "execution_count": 1,
   "metadata": {},
   "outputs": [
    {
     "name": "stdout",
     "output_type": "stream",
     "text": [
      "ไฟล์ Excel ถูกสร้างเรียบร้อยแล้ว\n"
     ]
    }
   ],
   "source": [
    "import pandas as pd\n",
    "\n",
    "# สร้างข้อมูลสำหรับคอลัมน์ต่าง ๆ\n",
    "data = {\n",
    "    'id_student': [66113424, 66113322, 66112233],  # ตัวอย่างข้อมูลสำหรับ id_student\n",
    "    'Personality': [None, None, None],  # หรือใส่ค่าเริ่มต้นเป็น 0\n",
    "    'Expression': [None, None, None],\n",
    "    'Speaking': [None, None, None],\n",
    "    'charm': [None, None, None],\n",
    "    'Personality2': [None, None, None],\n",
    "    'Expression2': [None, None, None],\n",
    "    'charm2': [None, None, None],\n",
    "    'sum': [None, None, None]\n",
    "}\n",
    "\n",
    "# สร้าง DataFrame จากข้อมูล\n",
    "df = pd.DataFrame(data)\n",
    "\n",
    "# บันทึก DataFrame เป็นไฟล์ Excel\n",
    "df.to_excel('output.xlsx', index=False)\n",
    "\n",
    "print(\"ไฟล์ Excel ถูกสร้างเรียบร้อยแล้ว\")\n"
   ]
  },
  {
   "cell_type": "code",
   "execution_count": 2,
   "metadata": {},
   "outputs": [
    {
     "data": {
      "text/plain": [
       "id_student       int64\n",
       "Personality    float64\n",
       "Expression     float64\n",
       "Speaking       float64\n",
       "charm          float64\n",
       "dtype: object"
      ]
     },
     "execution_count": 2,
     "metadata": {},
     "output_type": "execute_result"
    }
   ],
   "source": [
    "uri = \"output.xlsx\"\n",
    "cols = [\"id_student\",\"Personality\", \"Expression\", \"Speaking\", \"charm\"]\n",
    "df = pd.read_excel(uri, usecols=cols)\n",
    "df.dtypes"
   ]
  },
  {
   "cell_type": "code",
   "execution_count": 3,
   "metadata": {},
   "outputs": [
    {
     "name": "stdout",
     "output_type": "stream",
     "text": [
      "Index of the row with id_student 66113424: 0\n"
     ]
    }
   ],
   "source": [
    "#find row\n",
    "id_student = 66113424\n",
    "row_index = df[df['id_student'] == id_student].index.values[0]\n",
    "\n",
    "print(\"Index of the row with id_student {}: {}\".format(id_student, row_index))"
   ]
  },
  {
   "cell_type": "code",
   "execution_count": 4,
   "metadata": {},
   "outputs": [
    {
     "data": {
      "text/html": [
       "<div>\n",
       "<style scoped>\n",
       "    .dataframe tbody tr th:only-of-type {\n",
       "        vertical-align: middle;\n",
       "    }\n",
       "\n",
       "    .dataframe tbody tr th {\n",
       "        vertical-align: top;\n",
       "    }\n",
       "\n",
       "    .dataframe thead th {\n",
       "        text-align: right;\n",
       "    }\n",
       "</style>\n",
       "<table border=\"1\" class=\"dataframe\">\n",
       "  <thead>\n",
       "    <tr style=\"text-align: right;\">\n",
       "      <th></th>\n",
       "      <th>id_student</th>\n",
       "      <th>Personality</th>\n",
       "      <th>Expression</th>\n",
       "      <th>Speaking</th>\n",
       "      <th>charm</th>\n",
       "    </tr>\n",
       "  </thead>\n",
       "  <tbody>\n",
       "    <tr>\n",
       "      <th>0</th>\n",
       "      <td>66113424</td>\n",
       "      <td>55.0</td>\n",
       "      <td>NaN</td>\n",
       "      <td>NaN</td>\n",
       "      <td>NaN</td>\n",
       "    </tr>\n",
       "    <tr>\n",
       "      <th>1</th>\n",
       "      <td>66113322</td>\n",
       "      <td>NaN</td>\n",
       "      <td>NaN</td>\n",
       "      <td>NaN</td>\n",
       "      <td>NaN</td>\n",
       "    </tr>\n",
       "    <tr>\n",
       "      <th>2</th>\n",
       "      <td>66112233</td>\n",
       "      <td>NaN</td>\n",
       "      <td>NaN</td>\n",
       "      <td>NaN</td>\n",
       "      <td>NaN</td>\n",
       "    </tr>\n",
       "  </tbody>\n",
       "</table>\n",
       "</div>"
      ],
      "text/plain": [
       "   id_student  Personality  Expression  Speaking  charm\n",
       "0    66113424         55.0         NaN       NaN    NaN\n",
       "1    66113322          NaN         NaN       NaN    NaN\n",
       "2    66112233          NaN         NaN       NaN    NaN"
      ]
     },
     "execution_count": 4,
     "metadata": {},
     "output_type": "execute_result"
    }
   ],
   "source": [
    "df.at[0,\"Personality\"] = 55\n",
    "df"
   ]
  },
  {
   "cell_type": "code",
   "execution_count": 5,
   "metadata": {},
   "outputs": [],
   "source": [
    "#save to excel\n",
    "df.to_excel('output.xlsx', index=False)"
   ]
  },
  {
   "cell_type": "code",
   "execution_count": 29,
   "metadata": {},
   "outputs": [
    {
     "name": "stdout",
     "output_type": "stream",
     "text": [
      "Enter id_student (enter 0 to stop):\n",
      "Enter Personality (25):\n",
      "Enter Expression (10):\n",
      "Enter Speaking (10):\n",
      "Enter charm (5):\n",
      "ข้อมูลถูกบันทึกแล้ว\n",
      "Enter id_student (enter 0 to stop):\n",
      "ไม่พบนักศึกษาคนนี้\n",
      "Enter id_student (enter 0 to stop):\n",
      "จบโปรแกรม\n"
     ]
    }
   ],
   "source": [
    "import pandas as pd\n",
    "\n",
    "uri = \"output.xlsx\"\n",
    "cols = [\"id_student\",\"Personality\", \"Expression\", \"Speaking\", \"charm\"]\n",
    "df = pd.read_excel(uri, usecols=cols)\n",
    "\n",
    "while (True) :\n",
    "    print(\"Enter id_student (enter 0 to stop):\")\n",
    "    student = int(input())\n",
    "    \n",
    "    if student == 0:\n",
    "        print(\"จบโปรแกรม\")\n",
    "        break\n",
    "    elif student not in df['id_student'].values:\n",
    "        print(\"ไม่พบนักศึกษาคนนี้\")\n",
    "        continue\n",
    "    else:   \n",
    "        print(\"Enter Personality (25):\")\n",
    "        score_Personality = int(input())\n",
    "        print(\"Enter Expression (10):\")\n",
    "        score_Expression = int(input())\n",
    "        print(\"Enter Speaking (10):\")\n",
    "        score_Speaking = int(input())\n",
    "        print(\"Enter charm (5):\")\n",
    "        score_charm = int(input())\n",
    "        \n",
    "        row_index = df[df['id_student'] == student].index.values[0]\n",
    "        df.at[row_index, \"Personality\"] = score_Personality\n",
    "        df.at[row_index, \"Expression\"] = score_Expression\n",
    "        df.at[row_index, \"Speaking\"] = score_Speaking\n",
    "        df.at[row_index, \"charm\"] = score_charm\n",
    "        df.to_excel('output.xlsx', index=False)\n",
    "        print(\"ข้อมูลถูกบันทึกแล้ว\")"
   ]
  },
  {
   "cell_type": "markdown",
   "metadata": {},
   "source": []
  },
  {
   "cell_type": "code",
   "execution_count": null,
   "metadata": {},
   "outputs": [],
   "source": []
  }
 ],
 "metadata": {
  "kernelspec": {
   "display_name": "Python 3",
   "language": "python",
   "name": "python3"
  },
  "language_info": {
   "codemirror_mode": {
    "name": "ipython",
    "version": 3
   },
   "file_extension": ".py",
   "mimetype": "text/x-python",
   "name": "python",
   "nbconvert_exporter": "python",
   "pygments_lexer": "ipython3",
   "version": "3.11.9"
  }
 },
 "nbformat": 4,
 "nbformat_minor": 2
}
